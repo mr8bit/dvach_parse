{
 "cells": [
  {
   "cell_type": "code",
   "execution_count": null,
   "id": "ceed3159",
   "metadata": {},
   "outputs": [],
   "source": [
    "import api2ch\n",
    "from tqdm import tqdm\n",
    "import json\n",
    "from tqdm.contrib.concurrent import process_map\n",
    "\n",
    "api = api2ch.Api2ch()"
   ]
  },
  {
   "cell_type": "code",
   "execution_count": null,
   "id": "2cf60061",
   "metadata": {},
   "outputs": [],
   "source": [
    "boards = []"
   ]
  },
  {
   "cell_type": "code",
   "execution_count": null,
   "id": "867fd63d",
   "metadata": {},
   "outputs": [],
   "source": [
    "for board in api.boards().boards:\n",
    "    boards.append(board.id)"
   ]
  },
  {
   "cell_type": "code",
   "execution_count": null,
   "id": "abe69488",
   "metadata": {},
   "outputs": [],
   "source": [
    "import pathlib\n",
    "p = pathlib.Path(\"./boards\")\n",
    "p.mkdir(parents=True, exist_ok=True)"
   ]
  },
  {
   "cell_type": "code",
   "execution_count": null,
   "id": "fde1e774",
   "metadata": {},
   "outputs": [],
   "source": [
    "def download_from_board(board):\n",
    "    api = api2ch.Api2ch()\n",
    "    p = pathlib.Path(f\"./boards/{board}\")\n",
    "    p.mkdir(parents=True, exist_ok=True)\n",
    "    threads = api.threads(board).threads\n",
    "    for thread in tqdm(threads):\n",
    "        fn = f\"{thread.num}.json\"\n",
    "        filepath = p / fn\n",
    "        posts = api.thread_posts_by_num(board,thread.num,num=thread.num)\n",
    "        saved = posts.dict()\n",
    "        saved.pop('request', None)\n",
    "        with filepath.open(\"w\", encoding =\"utf-8\") as f:\n",
    "            json.dump(saved, f)"
   ]
  },
  {
   "cell_type": "code",
   "execution_count": null,
   "id": "c06acd8a",
   "metadata": {},
   "outputs": [],
   "source": [
    "download_from_board('2d')"
   ]
  },
  {
   "cell_type": "code",
   "execution_count": null,
   "id": "bde5068b",
   "metadata": {
    "scrolled": false
   },
   "outputs": [],
   "source": [
    "data = process_map(download_from_board, boards[145:], max_workers=6, chunksize=3)"
   ]
  },
  {
   "cell_type": "code",
   "execution_count": null,
   "id": "e7459c46",
   "metadata": {
    "pycharm": {
     "name": "#%%\n"
    }
   },
   "outputs": [],
   "source": [
    "\n"
   ]
  }
 ],
 "metadata": {
  "kernelspec": {
   "display_name": "Python 3",
   "language": "python",
   "name": "python3"
  },
  "language_info": {
   "codemirror_mode": {
    "name": "ipython",
    "version": 3
   },
   "file_extension": ".py",
   "mimetype": "text/x-python",
   "name": "python",
   "nbconvert_exporter": "python",
   "pygments_lexer": "ipython3",
   "version": "3.7.10"
  }
 },
 "nbformat": 4,
 "nbformat_minor": 5
}